{
  "nbformat": 4,
  "nbformat_minor": 0,
  "metadata": {
    "colab": {
      "provenance": []
    },
    "kernelspec": {
      "name": "python3",
      "display_name": "Python 3"
    },
    "language_info": {
      "name": "python"
    }
  },
  "cells": [
    {
      "cell_type": "markdown",
      "source": [
        "# Библиотеки, диск, путь:"
      ],
      "metadata": {
        "id": "kHsVYi7yRlAB"
      }
    },
    {
      "cell_type": "code",
      "execution_count": null,
      "metadata": {
        "colab": {
          "base_uri": "https://localhost:8080/"
        },
        "id": "wsCIaUMhB6BG",
        "outputId": "39f7bfb4-dd47-42f1-ebd8-92097d0ce2b7"
      },
      "outputs": [
        {
          "output_type": "stream",
          "name": "stdout",
          "text": [
            "Looking in indexes: https://pypi.org/simple, https://us-python.pkg.dev/colab-wheels/public/simple/\n",
            "Requirement already satisfied: razdel in /usr/local/lib/python3.10/dist-packages (0.5.0)\n"
          ]
        }
      ],
      "source": [
        "! pip install razdel\n",
        "\n",
        "from razdel import tokenize\n",
        "from statistics import mean"
      ]
    },
    {
      "cell_type": "code",
      "source": [
        "from google.colab import drive\n",
        "drive.mount('/content/drive',force_remount=True)"
      ],
      "metadata": {
        "colab": {
          "base_uri": "https://localhost:8080/"
        },
        "id": "046DYxefCD6g",
        "outputId": "12fdf60c-4834-422d-b7f4-24919222715b"
      },
      "execution_count": null,
      "outputs": [
        {
          "output_type": "stream",
          "name": "stdout",
          "text": [
            "Mounted at /content/drive\n"
          ]
        }
      ]
    },
    {
      "cell_type": "code",
      "source": [
        "path = '/content/drive/MyDrive/Colab Notebooks/'"
      ],
      "metadata": {
        "id": "AptEU57HCMSx"
      },
      "execution_count": null,
      "outputs": []
    },
    {
      "cell_type": "markdown",
      "source": [
        "# Загрузка датасета:"
      ],
      "metadata": {
        "id": "W72alnUJRp4P"
      }
    },
    {
      "cell_type": "markdown",
      "source": [
        "**Wikilingua**: https://github.com/esdurmus/Wikilingua?ysclid=li8wpvl48c25196539\n",
        "\n",
        "**Splitting**: https://drive.google.com/file/d/1PM7GFCy2gJL1WHqQz1dzqIDIEN6kfRoi/view"
      ],
      "metadata": {
        "id": "dqdAUYLdxjVH"
      }
    },
    {
      "cell_type": "code",
      "source": [
        "with open(path + 'train.src.ru', 'r') as f:\n",
        "    train_txt = f.read().split('\\n')\n",
        "\n",
        "with open(path + 'train.tgt.ru', 'r') as f:\n",
        "    train_sum = f.read().split('\\n')\n",
        "\n",
        "with open(path + 'val.src.ru', 'r') as f:\n",
        "    val_txt = f.read().split('\\n')\n",
        "\n",
        "with open(path + 'val.tgt.ru', 'r') as f:\n",
        "    val_sum = f.read().split('\\n')\n",
        "\n",
        "with open(path + 'test.src.ru', 'r') as f:\n",
        "    test_txt = f.read().split('\\n')\n",
        "\n",
        "with open(path + 'test.tgt.ru', 'r') as f:\n",
        "    test_sum = f.read().split('\\n')"
      ],
      "metadata": {
        "id": "hitVSz4RCKbY"
      },
      "execution_count": null,
      "outputs": []
    },
    {
      "cell_type": "code",
      "source": [
        "train_txt[0]"
      ],
      "metadata": {
        "colab": {
          "base_uri": "https://localhost:8080/",
          "height": 196
        },
        "id": "rayxnD4TDrxn",
        "outputId": "8b31f44d-ca45-4cb9-f4e2-b6f104933e21"
      },
      "execution_count": null,
      "outputs": [
        {
          "output_type": "execute_result",
          "data": {
            "text/plain": [
              "'. Эндометриоз — это заболевание, при котором клетки эндометрия разрастаются за пределами матки. Клетки могут разрастись вокруг матки и даже распространиться на другие участки брюшной полости. Основными симптомами этого заболевания являются сильные боли во время менструального цикла, которые могут продлиться на протяжении нескольких дней. К другим симптомам также можно отнести следующее:  боль во время секса; боль при испражнении или мочеиспускании, особенно во время менструального цикла; сильное кровотечение во время менструального цикла или в перерыве между циклами; бесплодие; прочие менее серьезные симптомы, вроде вздутия, диареи или запора, тошноты и усталости. Аденомиоз — это заболевание, при котором клетки эндометрия прорастают слишком глубоко в мышечную ткань матки. Это может привести к увеличению размеров матки, болям во время менструаций и прочим симптомам. У некоторых женщин при аденомиозе может не наблюдаться никаких симптомов, у других же может возникнуть следующее:  сильные или длительные боли во время менструального цикла; колющая боль в тазе или сильные спазмы; боли, которые с возрастом становятся все сильнее; боль во время занятий сексом; сгустки крови во время мензурального цикла; отек в брюшной полости из-за увеличенной матки. Причиной развития сальпингита, как правило, являются болезни, передающиеся половым путем. Сама же болезнь приводит к воспалению женских половых органов. Это заболевание может вызывать сильные боли. К другим симптомам сальпингита относятся:  боль в тазе; повышение температуры; выделения из влагалища с неприятным запахом; боль и/или кровотечение во время занятий сексом; чувство жжения во время мочеиспускания; кровотечение между менструальными циклами. Стеноз цервикального канала происходит, когда отверстие шейки матки сужается. У некоторых женщин после менопаузы при данном заболевании может не наблюдаться никаких симптомов. К симптомам стеноза цервикального канала можно отнести следующее:  отсутствие менструального цикла; сильная боль во время менструального цикла; аномальное кровотечение в перерыве между менструальными циклами; бесплодие; припухлость в области таза, вызванная выпуклостью в матке. Миома матки — это мышечная опухоль, растущая в стенках матки. Такие опухоли, как правило, являются доброкачественными и не вызывают никаких симптомов. Однако опухоли, кисты и прочие аномалии могут стать причиной вторичной дисменореи, именно поэтому при наличии сильных менструальных болей так важно обращаться к гинекологу. Симптомы миомы матки включают:  обильное кровотечение во время менструального цикла; Увеличение брюшной полости и/или тяжесть в нижней части живота; частое мочеиспускание; боль во время занятий сексом; боль в пояснице; трудности при деторождении или повторяющаяся необходимость в кесаревом сечении; бесплодие (в редких случаях). Внутриматочные противозачаточные средства, или ВМС, также могут стать причиной вторичной дисменореи. Если у вас установлено одно из этих противозачаточных средств и из-за него у вас сильные боли, советуем немедленно обратиться к гинекологу.  Причиной сильных болей, как правило, становятся медные внутриматочные противозачаточные средства.'"
            ],
            "application/vnd.google.colaboratory.intrinsic+json": {
              "type": "string"
            }
          },
          "metadata": {},
          "execution_count": 9
        }
      ]
    },
    {
      "cell_type": "code",
      "source": [
        "list(tokenize(train_txt[0]))[0:3]"
      ],
      "metadata": {
        "colab": {
          "base_uri": "https://localhost:8080/"
        },
        "id": "bXXnqEmZF6T2",
        "outputId": "624739b8-8d18-4756-bded-c62c96d78837"
      },
      "execution_count": null,
      "outputs": [
        {
          "output_type": "execute_result",
          "data": {
            "text/plain": [
              "[Substring(0, 1, '.'), Substring(2, 13, 'Эндометриоз'), Substring(14, 15, '—')]"
            ]
          },
          "metadata": {},
          "execution_count": 60
        }
      ]
    },
    {
      "cell_type": "markdown",
      "source": [
        "# Статистика: количество текстов в выборке:"
      ],
      "metadata": {
        "id": "W18awJv3MbkO"
      }
    },
    {
      "cell_type": "code",
      "source": [
        "dataset_size = len(train_txt) + len(val_txt) + len(test_txt)\n",
        "print(f'dataset size: {dataset_size}')"
      ],
      "metadata": {
        "colab": {
          "base_uri": "https://localhost:8080/"
        },
        "id": "sQ1wxTGwV1BK",
        "outputId": "af6b526c-a963-4965-df31-0af4ca22178e"
      },
      "execution_count": null,
      "outputs": [
        {
          "output_type": "stream",
          "name": "stdout",
          "text": [
            "dataset size: 52899\n"
          ]
        }
      ]
    },
    {
      "cell_type": "code",
      "source": [
        "def non_empy(data):\n",
        "    n = 0\n",
        "    for txt in data:\n",
        "        n += 1 if txt else 0\n",
        "    return n"
      ],
      "metadata": {
        "id": "oPIiZTdBMpEy"
      },
      "execution_count": null,
      "outputs": []
    },
    {
      "cell_type": "code",
      "source": [
        "print('train_txt')\n",
        "print(f'len in texts: {len(train_txt)} p: {len(train_txt)/dataset_size*100} %')\n",
        "print(f'non empty texts: {non_empy(train_txt)} p: {non_empy(train_txt)/dataset_size*100} %')"
      ],
      "metadata": {
        "colab": {
          "base_uri": "https://localhost:8080/"
        },
        "id": "ieUI-VjnMijy",
        "outputId": "8f7b4e50-83be-4ecb-a545-9e1cefe9e279"
      },
      "execution_count": null,
      "outputs": [
        {
          "output_type": "stream",
          "name": "stdout",
          "text": [
            "train_txt\n",
            "len in texts: 37029 p: 69.99943288152896 %\n",
            "non empty texts: 37024 p: 69.98998090701147 %\n"
          ]
        }
      ]
    },
    {
      "cell_type": "code",
      "source": [
        "print('train_sum')\n",
        "print(f'len in texts: {len(train_sum)} p: {len(train_sum)/dataset_size*100} %')\n",
        "print(f'non empty texts: {non_empy(train_sum)} p: {non_empy(train_sum)/dataset_size*100} %')"
      ],
      "metadata": {
        "colab": {
          "base_uri": "https://localhost:8080/"
        },
        "id": "fOzHYpDyNL9I",
        "outputId": "8bc8e684-05a4-48ea-91ac-30967ec1892f"
      },
      "execution_count": null,
      "outputs": [
        {
          "output_type": "stream",
          "name": "stdout",
          "text": [
            "train_sum\n",
            "len in texts: 37029 p: 69.99943288152896 %\n",
            "non empty texts: 37028 p: 69.99754248662545 %\n"
          ]
        }
      ]
    },
    {
      "cell_type": "code",
      "source": [
        "print('val_txt')\n",
        "print(f'len in texts: {len(val_txt)} p: {len(val_txt)/dataset_size*100} %')\n",
        "print(f'non empty texts: {non_empy(val_txt)} p: {non_empy(val_txt)/dataset_size*100} %')"
      ],
      "metadata": {
        "colab": {
          "base_uri": "https://localhost:8080/"
        },
        "id": "etGh_ZKkNSo5",
        "outputId": "2a79d2a7-9415-47cd-96f5-9a05261fdf84"
      },
      "execution_count": null,
      "outputs": [
        {
          "output_type": "stream",
          "name": "stdout",
          "text": [
            "val_txt\n",
            "len in texts: 5289 p: 9.998298644586855 %\n",
            "non empty texts: 5286 p: 9.992627459876369 %\n"
          ]
        }
      ]
    },
    {
      "cell_type": "code",
      "source": [
        "print('val_sum')\n",
        "print(f'len in texts: {len(val_sum)} p: {len(val_sum)/dataset_size*100} %')\n",
        "print(f'non empty texts: {non_empy(val_sum)} p: {non_empy(val_sum)/dataset_size*100} %')"
      ],
      "metadata": {
        "colab": {
          "base_uri": "https://localhost:8080/"
        },
        "id": "CYDZ528rNX6S",
        "outputId": "0adcd812-e5ce-445d-8566-e487dd76eb5a"
      },
      "execution_count": null,
      "outputs": [
        {
          "output_type": "stream",
          "name": "stdout",
          "text": [
            "val_sum\n",
            "len in texts: 5289 p: 9.998298644586855 %\n",
            "non empty texts: 5288 p: 9.996408249683359 %\n"
          ]
        }
      ]
    },
    {
      "cell_type": "code",
      "source": [
        "print('test_txt')\n",
        "print(f'len in texts: {len(test_txt)} p: {len(test_txt)/dataset_size*100} %')\n",
        "print(f'non empty texts: {non_empy(test_txt)} p: {non_empy(test_txt)/dataset_size*100} %')"
      ],
      "metadata": {
        "colab": {
          "base_uri": "https://localhost:8080/"
        },
        "id": "wC0MJiZhNdsa",
        "outputId": "83f4ba1d-bf59-481d-f95f-b5806745f38f"
      },
      "execution_count": null,
      "outputs": [
        {
          "output_type": "stream",
          "name": "stdout",
          "text": [
            "test_txt\n",
            "len in texts: 10581 p: 20.002268473884193 %\n",
            "non empty texts: 10577 p: 19.994706894270216 %\n"
          ]
        }
      ]
    },
    {
      "cell_type": "code",
      "source": [
        "print('test_sum')\n",
        "print(f'len in texts: {len(test_sum)} p: {len(test_sum)/dataset_size*100} %')\n",
        "print(f'non empty texts: {non_empy(test_sum)} p: {non_empy(test_sum)/dataset_size*100} %')"
      ],
      "metadata": {
        "colab": {
          "base_uri": "https://localhost:8080/"
        },
        "id": "YKGcP-bPNhvE",
        "outputId": "dd8f6efc-2a07-4bde-d142-266c98379374"
      },
      "execution_count": null,
      "outputs": [
        {
          "output_type": "stream",
          "name": "stdout",
          "text": [
            "test_sum\n",
            "len in texts: 10581 p: 20.002268473884193 %\n",
            "non empty texts: 10580 p: 20.0003780789807 %\n"
          ]
        }
      ]
    },
    {
      "cell_type": "markdown",
      "source": [
        "# Статистика: количество токенов в тексте (min, max, mean)"
      ],
      "metadata": {
        "id": "C_HdbLw7MDMV"
      }
    },
    {
      "cell_type": "code",
      "source": [
        "def stat(data):\n",
        "    lens = [len(list(tokenize(txt))) for txt in data if txt]\n",
        "    min_ = min(lens)\n",
        "    max_ = max(lens)\n",
        "    mean_ = mean(lens)\n",
        "    return min_, max_, mean_"
      ],
      "metadata": {
        "id": "-3r4S8yLErEI"
      },
      "execution_count": null,
      "outputs": []
    },
    {
      "cell_type": "code",
      "source": [
        "min_, max_, mean_ = stat(train_txt)\n",
        "print('train_txt')\n",
        "print(f'min: {min_} max: {max_} mean: {mean_}')"
      ],
      "metadata": {
        "colab": {
          "base_uri": "https://localhost:8080/"
        },
        "id": "azES14-mH9Ui",
        "outputId": "7dab672e-9467-4deb-e7c5-2edc2f6abcd4"
      },
      "execution_count": null,
      "outputs": [
        {
          "output_type": "stream",
          "name": "stdout",
          "text": [
            "train_txt\n",
            "min: 1 max: 4216 mean: 378.2691497407087\n"
          ]
        }
      ]
    },
    {
      "cell_type": "code",
      "source": [
        "min_, max_, mean_ = stat(train_sum)\n",
        "print('train_sum')\n",
        "print(f'min: {min_} max: {max_} mean: {mean_}')"
      ],
      "metadata": {
        "colab": {
          "base_uri": "https://localhost:8080/"
        },
        "id": "g1XuCMonIdQB",
        "outputId": "c8ae407b-732f-4564-fb0d-efbee6f4f694"
      },
      "execution_count": null,
      "outputs": [
        {
          "output_type": "stream",
          "name": "stdout",
          "text": [
            "train_sum\n",
            "min: 2 max: 917 mean: 38.35929566814303\n"
          ]
        }
      ]
    },
    {
      "cell_type": "code",
      "source": [
        "min_, max_, mean_ = stat(val_txt)\n",
        "print('val_txt')\n",
        "print(f'min: {min_} max: {max_} mean: {mean_}')"
      ],
      "metadata": {
        "colab": {
          "base_uri": "https://localhost:8080/"
        },
        "id": "6ijaB_8eIg8O",
        "outputId": "3888517b-3d1f-4fdb-f0c0-d2018a002c54"
      },
      "execution_count": null,
      "outputs": [
        {
          "output_type": "stream",
          "name": "stdout",
          "text": [
            "val_txt\n",
            "min: 3 max: 4697 mean: 383.13828982217177\n"
          ]
        }
      ]
    },
    {
      "cell_type": "code",
      "source": [
        "min_, max_, mean_ = stat(val_sum)\n",
        "print('val_sum')\n",
        "print(f'min: {min_} max: {max_} mean: {mean_}')"
      ],
      "metadata": {
        "colab": {
          "base_uri": "https://localhost:8080/"
        },
        "id": "n2f_4p5uIiwt",
        "outputId": "3bbe3b44-56bb-4c27-f387-7801546a447b"
      },
      "execution_count": null,
      "outputs": [
        {
          "output_type": "stream",
          "name": "stdout",
          "text": [
            "val_sum\n",
            "min: 3 max: 517 mean: 39.921898638426626\n"
          ]
        }
      ]
    },
    {
      "cell_type": "code",
      "source": [
        "min_, max_, mean_ = stat(test_txt)\n",
        "print('test_txt')\n",
        "print(f'min: {min_} max: {max_} mean: {mean_}')"
      ],
      "metadata": {
        "colab": {
          "base_uri": "https://localhost:8080/"
        },
        "id": "yZQsPu__Il-9",
        "outputId": "99a07e3d-4b99-44d6-abf6-9475d06530a1"
      },
      "execution_count": null,
      "outputs": [
        {
          "output_type": "stream",
          "name": "stdout",
          "text": [
            "test_txt\n",
            "min: 4 max: 5354 mean: 373.6592606599225\n"
          ]
        }
      ]
    },
    {
      "cell_type": "code",
      "source": [
        "min_, max_, mean_ = stat(test_sum)\n",
        "print('test_sum')\n",
        "print(f'min: {min_} max: {max_} mean: {mean_}')"
      ],
      "metadata": {
        "colab": {
          "base_uri": "https://localhost:8080/"
        },
        "id": "hj_7_tg3InqP",
        "outputId": "70a14457-a391-4b53-a03c-8e0bbb116ec5"
      },
      "execution_count": null,
      "outputs": [
        {
          "output_type": "stream",
          "name": "stdout",
          "text": [
            "test_sum\n",
            "min: 2 max: 464 mean: 39.15463137996219\n"
          ]
        }
      ]
    },
    {
      "cell_type": "markdown",
      "source": [
        "# Статистика: количество текстов, у которых длина: больше 3 000 токенов / меньше 5 токенов"
      ],
      "metadata": {
        "id": "s0LLE3XdLODd"
      }
    },
    {
      "cell_type": "code",
      "source": [
        "def stat_more(data):\n",
        "    n = 0\n",
        "    for txt in data:\n",
        "        n += 1 if len(list(tokenize(txt))) > 3000 else 0\n",
        "    return n\n",
        "\n",
        "def stat_less(data):\n",
        "    n = 0\n",
        "    for txt in data:\n",
        "        n += 1 if len(list(tokenize(txt))) < 5 else 0\n",
        "    return n"
      ],
      "metadata": {
        "id": "rYM5EZ9mJik_"
      },
      "execution_count": null,
      "outputs": []
    },
    {
      "cell_type": "code",
      "source": [
        "print('train_txt')\n",
        "print(f'more than 3 000 tokens: {stat_more(train_txt)}')\n",
        "print(f'less than 5 tokens: {stat_less(train_txt)}')"
      ],
      "metadata": {
        "colab": {
          "base_uri": "https://localhost:8080/"
        },
        "id": "HqZlPtUXKaYq",
        "outputId": "2792c91d-c4f9-4eed-9039-8f6f32dfe11a"
      },
      "execution_count": null,
      "outputs": [
        {
          "output_type": "stream",
          "name": "stdout",
          "text": [
            "train_txt\n",
            "more than 3 000 tokens: 3\n",
            "less than 5 tokens: 15\n"
          ]
        }
      ]
    },
    {
      "cell_type": "code",
      "source": [
        "print('train_sum')\n",
        "print(f'more than 3 000 tokens: {stat_more(train_sum)}')\n",
        "print(f'less than 5 tokens: {stat_less(train_sum)}')"
      ],
      "metadata": {
        "colab": {
          "base_uri": "https://localhost:8080/"
        },
        "id": "7DsMQ9l3K1Dp",
        "outputId": "293539fe-6ae0-4348-dd3b-4133f68ea746"
      },
      "execution_count": null,
      "outputs": [
        {
          "output_type": "stream",
          "name": "stdout",
          "text": [
            "train_sum\n",
            "more than 3 000 tokens: 0\n",
            "less than 5 tokens: 276\n"
          ]
        }
      ]
    },
    {
      "cell_type": "code",
      "source": [
        "print('val_txt')\n",
        "print(f'more than 3 000 tokens: {stat_more(val_txt)}')\n",
        "print(f'less than 5 tokens: {stat_less(val_txt)}')"
      ],
      "metadata": {
        "colab": {
          "base_uri": "https://localhost:8080/"
        },
        "id": "l2duDntpK4kJ",
        "outputId": "af72f87e-560c-405b-8df6-315529b4256d"
      },
      "execution_count": null,
      "outputs": [
        {
          "output_type": "stream",
          "name": "stdout",
          "text": [
            "val_txt\n",
            "more than 3 000 tokens: 4\n",
            "less than 5 tokens: 5\n"
          ]
        }
      ]
    },
    {
      "cell_type": "code",
      "source": [
        "print('val_sum')\n",
        "print(f'more than 3 000 tokens: {stat_more(val_sum)}')\n",
        "print(f'less than 5 tokens: {stat_less(val_sum)}')"
      ],
      "metadata": {
        "colab": {
          "base_uri": "https://localhost:8080/"
        },
        "id": "3epRs3jYK_KE",
        "outputId": "2d652a3e-f548-463c-9a3c-5395109b0387"
      },
      "execution_count": null,
      "outputs": [
        {
          "output_type": "stream",
          "name": "stdout",
          "text": [
            "val_sum\n",
            "more than 3 000 tokens: 0\n",
            "less than 5 tokens: 44\n"
          ]
        }
      ]
    },
    {
      "cell_type": "code",
      "source": [
        "print('test_txt')\n",
        "print(f'more than 3 000 tokens: {stat_more(test_txt)}')\n",
        "print(f'less than 5 tokens: {stat_less(test_txt)}')"
      ],
      "metadata": {
        "colab": {
          "base_uri": "https://localhost:8080/"
        },
        "id": "pZivv5d-LDmL",
        "outputId": "b9dcb146-cb56-46fb-fc54-fb9ed5677c4f"
      },
      "execution_count": null,
      "outputs": [
        {
          "output_type": "stream",
          "name": "stdout",
          "text": [
            "test_txt\n",
            "more than 3 000 tokens: 1\n",
            "less than 5 tokens: 11\n"
          ]
        }
      ]
    },
    {
      "cell_type": "code",
      "source": [
        "print('test_sum')\n",
        "print(f'more than 3 000 tokens: {stat_more(test_sum)}')\n",
        "print(f'less than 5 tokens: {stat_less(test_sum)}')"
      ],
      "metadata": {
        "colab": {
          "base_uri": "https://localhost:8080/"
        },
        "id": "akBCpNvhLDQQ",
        "outputId": "07495ba7-2ac5-4492-c569-8dc3a7bf5416"
      },
      "execution_count": null,
      "outputs": [
        {
          "output_type": "stream",
          "name": "stdout",
          "text": [
            "test_sum\n",
            "more than 3 000 tokens: 0\n",
            "less than 5 tokens: 91\n"
          ]
        }
      ]
    },
    {
      "cell_type": "code",
      "source": [
        "more_ = 0 + 1 + 0 + 4 + 0 + 3\n",
        "less_ = 91 + 11 + 44 + 5 + 276 + 15"
      ],
      "metadata": {
        "id": "Rpa48IIvd5fd"
      },
      "execution_count": null,
      "outputs": []
    },
    {
      "cell_type": "code",
      "source": [
        "print('SUMMARY')\n",
        "print(f'more than 3 000 tokens texts and summaries: {more_} p: {more_ / dataset_size*100} %')\n",
        "print(f'less than 5 tokens texts & summaries: {less_} p: {less_ / dataset_size*100} %')"
      ],
      "metadata": {
        "colab": {
          "base_uri": "https://localhost:8080/"
        },
        "id": "2sRWJsFOYaLS",
        "outputId": "53e60b78-1ee1-48de-dafb-08bce9b99b8a"
      },
      "execution_count": null,
      "outputs": [
        {
          "output_type": "stream",
          "name": "stdout",
          "text": [
            "SUMMARY\n",
            "more than 3 000 tokens texts and summaries: 8 p: 0.015123159227962722 %\n",
            "less than 5 tokens texts & summaries: 442 p: 0.8355545473449404 %\n"
          ]
        }
      ]
    },
    {
      "cell_type": "code",
      "source": [],
      "metadata": {
        "id": "5ZnHwvYPd82c"
      },
      "execution_count": null,
      "outputs": []
    }
  ]
}