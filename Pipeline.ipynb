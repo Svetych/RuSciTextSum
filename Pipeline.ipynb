{
  "nbformat": 4,
  "nbformat_minor": 0,
  "metadata": {
    "colab": {
      "provenance": []
    },
    "kernelspec": {
      "name": "python3",
      "display_name": "Python 3"
    },
    "language_info": {
      "name": "python"
    }
  },
  "cells": [
    {
      "cell_type": "markdown",
      "source": [
        "# Библиотеки"
      ],
      "metadata": {
        "id": "o6B4vPbjYMJa"
      }
    },
    {
      "cell_type": "code",
      "source": [
        "import torch\n",
        "from tqdm import tqdm\n",
        "import torchvision\n",
        "import random\n",
        "import numpy as np\n",
        "from IPython.display import clear_output\n",
        "\n",
        "try:\n",
        "    import transformers\n",
        "except ModuleNotFoundError:\n",
        "    !pip install transformers\n",
        "    !pip install transformers sentencepiece --quiet\n",
        "    clear_output()\n",
        "    import transformers\n",
        "from transformers import (\n",
        "    T5ForConditionalGeneration, T5TokenizerFast, T5Tokenizer,\n",
        "    DataCollatorForLanguageModeling, TrainingArguments, Trainer,\n",
        ")\n",
        "\n",
        "try:\n",
        "    import datasets\n",
        "except ModuleNotFoundError:\n",
        "    !pip install datasets\n",
        "    clear_output()\n",
        "from datasets import load_dataset\n",
        "\n",
        "try:\n",
        "    import rouge\n",
        "except ModuleNotFoundError:\n",
        "    ! pip install rouge\n",
        "    clear_output()\n",
        "from rouge import Rouge "
      ],
      "metadata": {
        "id": "Dn-I2ukEm14l"
      },
      "execution_count": null,
      "outputs": []
    },
    {
      "cell_type": "markdown",
      "source": [
        "Фиксируем сиды"
      ],
      "metadata": {
        "id": "cvdzdyuK2Rxd"
      }
    },
    {
      "cell_type": "code",
      "source": [
        "torch.manual_seed(42)\n",
        "random.seed(42)\n",
        "np.random.seed(42)\n",
        "torch.use_deterministic_algorithms(True)"
      ],
      "metadata": {
        "id": "cputLBk81qB0"
      },
      "execution_count": null,
      "outputs": []
    },
    {
      "cell_type": "markdown",
      "source": [
        "Пути для сохранения (не забудьте подключить диск):"
      ],
      "metadata": {
        "id": "fslW36VoY2iM"
      }
    },
    {
      "cell_type": "code",
      "execution_count": null,
      "metadata": {
        "id": "aYH9S3Dxmr8w"
      },
      "outputs": [],
      "source": [
        "path = '/content/drive/MyDrive/Colab Notebooks'\n",
        "saved_model_path = path + '/archive'\n",
        "checkpoint_path = path + '/t5-model-small'\n",
        "dataset_path = path + '/dataset'\n",
        "model_name = \"cointegrated/rut5-small\""
      ]
    },
    {
      "cell_type": "markdown",
      "source": [
        "Устройство ускорителя:"
      ],
      "metadata": {
        "id": "0Yxz6E1rY819"
      }
    },
    {
      "cell_type": "code",
      "source": [
        "device = torch.device(\"cuda\" if torch.cuda.is_available() else \"cpu\")"
      ],
      "metadata": {
        "id": "G4tD5mRzm6ax"
      },
      "execution_count": null,
      "outputs": []
    },
    {
      "cell_type": "markdown",
      "source": [
        "# Main"
      ],
      "metadata": {
        "id": "tp5o-IlbYQIf"
      }
    },
    {
      "cell_type": "markdown",
      "source": [
        "Функции:"
      ],
      "metadata": {
        "id": "O4Qazx2rZAhR"
      }
    },
    {
      "cell_type": "code",
      "source": [
        "def make_dataset_(data, tokenizer, max_length_text=2890, max_length_ref=200):\n",
        "    '''\n",
        "\n",
        "    '''\n",
        "    dataset = []\n",
        "    for inst in data:\n",
        "        txt = tokenizer(inst['text'], add_special_tokens=True, max_length=max_length_text, padding=\"max_length\", truncation=True)\n",
        "        sum_ = tokenizer(inst['summary'], add_special_tokens=True, max_length=max_length_ref, padding=\"max_length\", truncation=True).input_ids\n",
        "        txt[\"labels\"] = sum_\n",
        "        dataset.append(txt)\n",
        "    return dataset\n",
        "\n",
        "def save(path, model, optimizer):\n",
        "    '''\n",
        "\n",
        "    '''\n",
        "    torch.save({\n",
        "        'model_state_dict': model.state_dict(),\n",
        "        'optimizer_state_dict': optimizer.state_dict()\n",
        "    }, path)\n",
        "\n",
        "def tests_res(data, model, tokenizer, max_length_text=2890):\n",
        "    '''\n",
        "\n",
        "    '''\n",
        "    res, ref = [], []\n",
        "    for inst in data:\n",
        "        inp = tokenizer(inst['text'], add_special_tokens=True, max_length=max_length_text, padding=\"max_length\", truncation=True, return_tensors='pt').to(device) \n",
        "        gen_ref = tokenizer.decode(model.generate(input_ids=inp.input_ids, attention_mask=input.attention_mask)[0], skip_special_tokens=True)\n",
        "        res.append(gen_ref)\n",
        "        ref.append(inst['summary'])\n",
        "    return res, ref\n",
        "\n",
        "def summarize(text, model, tokenizer, max_length_text=2890):\n",
        "    '''\n",
        "\n",
        "    '''\n",
        "    inp = tokenizer(text, add_special_tokens=True, max_length=max_length_text, padding=\"max_length\", truncation=True, return_tensors='pt').to(device) \n",
        "    return tokenizer.decode(model.generate(input_ids=inp.input_ids, attention_mask=input.attention_mask)[0], skip_special_tokens=True)\n",
        "\n",
        "def make_dataset(model, tokenizer, max_length_text=2890, max_length_ref=200, n=50):\n",
        "    '''\n",
        "\n",
        "    '''\n",
        "    dataset = []\n",
        "    for i in range(n):\n",
        "        with open(dataset_path + f'/{i}.txt') as f:\n",
        "            data = f.read()\n",
        "        data = data.split('\\n\\n')\n",
        "        txt = tokenizer(data[1], add_special_tokens=True, max_length=max_length_text, padding=\"max_length\", truncation=True)\n",
        "        sum_ = tokenizer(data[2], add_special_tokens=True, max_length=max_length_ref, padding=\"max_length\", truncation=True).input_ids\n",
        "        txt[\"labels\"] = sum_\n",
        "        dataset.append(txt)\n",
        "    return dataset"
      ],
      "metadata": {
        "id": "t_dbfdwnm9mn"
      },
      "execution_count": null,
      "outputs": []
    },
    {
      "cell_type": "markdown",
      "source": [
        "Загрузка модели:"
      ],
      "metadata": {
        "id": "UvNFtuG2Yd4y"
      }
    },
    {
      "cell_type": "code",
      "source": [
        "# Загрузка модели\n",
        "tokenizer = T5Tokenizer.from_pretrained(model_name)\n",
        "model_t5 = T5ForConditionalGeneration.from_pretrained(model_name)\n",
        "optimizer = torch.optim.AdamW(model_t5.parameters(),lr=1e-4)\n",
        "\n",
        "checkpoint = torch.load(saved_model_path + '/model_t5_small_4.pth', map_location='cpu')\n",
        "model_t5.load_state_dict(checkpoint['model_state_dict'])\n",
        "model_t5.to(device)\n",
        "optimizer.load_state_dict(checkpoint['optimizer_state_dict'])"
      ],
      "metadata": {
        "id": "e30TRPsMnWuT"
      },
      "execution_count": null,
      "outputs": []
    },
    {
      "cell_type": "markdown",
      "source": [
        "Загрузка датасета Gazeta и создание обучающей + валидационной выборок"
      ],
      "metadata": {
        "id": "UZ4YAHajYiIY"
      }
    },
    {
      "cell_type": "code",
      "source": [
        "# Загрузка датасета\n",
        "dataset_train = load_dataset('IlyaGusev/gazeta', revision=\"v2.0\")[\"train\"]\n",
        "dataset_val = load_dataset('IlyaGusev/gazeta', revision=\"v2.0\")[\"validation\"]\n",
        "dataset_test = load_dataset('IlyaGusev/gazeta', revision=\"v2.0\")[\"test\"]\n",
        "clear_output()"
      ],
      "metadata": {
        "id": "BEPjiu5goSac"
      },
      "execution_count": null,
      "outputs": []
    },
    {
      "cell_type": "code",
      "source": [
        "# Создание обучающей и валидационной выборок\n",
        "print('Making train dataset')\n",
        "dataset_train = make_dataset_(dataset_train, tokenizer)\n",
        "print('Making val dataset')\n",
        "dataset_val = make_dataset_(dataset_val, tokenizer)\n",
        "print('Done!')"
      ],
      "metadata": {
        "id": "6pLTQtKLafoC"
      },
      "execution_count": null,
      "outputs": []
    },
    {
      "cell_type": "markdown",
      "source": [
        "## Обучение языковой модели на задачу реферирования:"
      ],
      "metadata": {
        "id": "SkVScv9OYthb"
      }
    },
    {
      "cell_type": "markdown",
      "source": [
        "Если возникла ошибка:"
      ],
      "metadata": {
        "id": "ql_Yf06IYqp4"
      }
    },
    {
      "cell_type": "code",
      "source": [
        "#if \"Using the `Trainer` with `PyTorch` requires `accelerate`: Run `pip install --upgrade accelerate`\" occured:\n",
        "! pip uninstall -y transformers accelerate\n",
        "! pip install transformers accelerate\n",
        "# then reload"
      ],
      "metadata": {
        "id": "Z4yYwwvE0dAT"
      },
      "execution_count": null,
      "outputs": []
    },
    {
      "cell_type": "code",
      "source": [
        "# параметры для Тренера\n",
        "training_args = TrainingArguments(\n",
        "    output_dir= checkpoint_path,\n",
        "    overwrite_output_dir=True,\n",
        "    per_device_train_batch_size=2,\n",
        "    per_device_eval_batch_size=2,\n",
        "    num_train_epochs=1,\n",
        "    warmup_steps=10,\n",
        "    gradient_accumulation_steps=16,\n",
        "    evaluation_strategy=\"epoch\",\n",
        "    save_strategy=\"epoch\",\n",
        "    load_best_model_at_end=True,\n",
        "    seed=42,\n",
        ")\n",
        "\n",
        "# Тренер\n",
        "trainer = Trainer(\n",
        "    model=model_t5,\n",
        "    args=training_args,\n",
        "    train_dataset=dataset_train,\n",
        "    eval_dataset=dataset_val,\n",
        "    tokenizer=tokenizer,\n",
        "    optimizers = (optimizer, None)\n",
        ")"
      ],
      "metadata": {
        "id": "KnlEGNj1oltt"
      },
      "execution_count": null,
      "outputs": []
    },
    {
      "cell_type": "code",
      "source": [
        "# Обучение модели\n",
        "model_t5.train()\n",
        "logs = trainer.train()\n",
        "print('Saving model')\n",
        "save(saved_model_path + '/model_t5_small_5.pth', model_t5, optimizer)"
      ],
      "metadata": {
        "id": "s_rrLGlnZr7b"
      },
      "execution_count": null,
      "outputs": []
    },
    {
      "cell_type": "markdown",
      "source": [
        "## Тестирование:"
      ],
      "metadata": {
        "id": "Hiw3a-uwZ44-"
      }
    },
    {
      "cell_type": "markdown",
      "source": [
        "Тест на тестовой выборке датасета Gazeta"
      ],
      "metadata": {
        "id": "L5jsglNGbCj3"
      }
    },
    {
      "cell_type": "code",
      "source": [
        "# Тестирование модели\n",
        "model_t5.test()\n",
        "print('Testing')\n",
        "model_results, refs = tests_res(dataset_test, model_t5, tokenizer)\n",
        "print('Done! Counting Rouge')\n",
        "rouge = Rouge()\n",
        "scores = rouge.get_scores(model_results, refs, avg=True)\n",
        "print(scores)"
      ],
      "metadata": {
        "id": "O-AL6JeApggA"
      },
      "execution_count": null,
      "outputs": []
    },
    {
      "cell_type": "markdown",
      "source": [
        "Тест на более коротких текстах (тезисы к ВКР 2020)"
      ],
      "metadata": {
        "id": "8QuoeSZebJtV"
      }
    },
    {
      "cell_type": "code",
      "source": [
        "for i in range(64):\n",
        "    t = open(path + f'/texts/text_{i}', 'r', encoding='cp1251').read()\n",
        "    print(f'{i}) {summarize(t)}')\n",
        "    print('-----------')"
      ],
      "metadata": {
        "id": "IIMUEcoPbRoB"
      },
      "execution_count": null,
      "outputs": []
    },
    {
      "cell_type": "markdown",
      "source": [
        "## Дообучение на своем датасете:"
      ],
      "metadata": {
        "id": "-Z4tIzDqZuTi"
      }
    },
    {
      "cell_type": "markdown",
      "source": [
        "Загрузка датасета и создание выборки "
      ],
      "metadata": {
        "id": "wEJm5wnq8jPq"
      }
    },
    {
      "cell_type": "code",
      "source": [
        "train_set = make_dataset(model_t5, tokenizer)"
      ],
      "metadata": {
        "id": "I9_h05FBcyys"
      },
      "execution_count": null,
      "outputs": []
    },
    {
      "cell_type": "markdown",
      "source": [
        "Обучение:"
      ],
      "metadata": {
        "id": "utf5cR399qLZ"
      }
    },
    {
      "cell_type": "code",
      "source": [
        "model_t5.train()\n",
        "\n",
        "# параметры для Тренера\n",
        "training_args = TrainingArguments(\n",
        "    output_dir= checkpoint_path,\n",
        "    overwrite_output_dir=True,\n",
        "    per_device_train_batch_size=2,\n",
        "    num_train_epochs=1,\n",
        "    warmup_steps=10,\n",
        "    gradient_accumulation_steps=16,\n",
        "    save_strategy=\"epoch\",\n",
        "    load_best_model_at_end=True,\n",
        "    seed=42,\n",
        ")\n",
        "\n",
        "# Тренер\n",
        "trainer = Trainer(\n",
        "    model=model_t5,\n",
        "    args=training_args,\n",
        "    train_dataset=train_set,\n",
        "    tokenizer=tokenizer,\n",
        "    optimizers = (optimizer, None)\n",
        ")"
      ],
      "metadata": {
        "id": "pgTk8urJcmRb"
      },
      "execution_count": null,
      "outputs": []
    },
    {
      "cell_type": "markdown",
      "source": [
        "## Тестирование:"
      ],
      "metadata": {
        "id": "Gg8GqqKT9r8W"
      }
    },
    {
      "cell_type": "markdown",
      "source": [
        "Тест на более коротких текстах (тезисы к ВКР 2020)"
      ],
      "metadata": {
        "id": "g-sJmGsv-H6I"
      }
    },
    {
      "cell_type": "code",
      "source": [
        "model_t5.eval()"
      ],
      "metadata": {
        "id": "oACSAwW0clOy"
      },
      "execution_count": null,
      "outputs": []
    },
    {
      "cell_type": "code",
      "source": [
        "for i in range(64):\n",
        "    t = open(path + f'/texts/text_{i}', 'r', encoding='cp1251').read()\n",
        "    print(f'{i}) {summarize(t)}')\n",
        "    print('-----------')"
      ],
      "metadata": {
        "id": "0BfqriR29yyv"
      },
      "execution_count": null,
      "outputs": []
    }
  ]
}