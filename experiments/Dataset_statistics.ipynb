{
  "nbformat": 4,
  "nbformat_minor": 0,
  "metadata": {
    "colab": {
      "provenance": []
    },
    "kernelspec": {
      "name": "python3",
      "display_name": "Python 3"
    },
    "language_info": {
      "name": "python"
    }
  },
  "cells": [
    {
      "cell_type": "markdown",
      "source": [
        "# Библиотеки:"
      ],
      "metadata": {
        "id": "wvmJC93MsNo6"
      }
    },
    {
      "cell_type": "code",
      "execution_count": null,
      "metadata": {
        "colab": {
          "base_uri": "https://localhost:8080/"
        },
        "id": "elpZSldLhFJB",
        "outputId": "e16b9a0c-b7c0-403f-d815-599c9406b3b9"
      },
      "outputs": [
        {
          "output_type": "stream",
          "name": "stdout",
          "text": [
            "Looking in indexes: https://pypi.org/simple, https://us-python.pkg.dev/colab-wheels/public/simple/\n",
            "Collecting razdel\n",
            "  Downloading razdel-0.5.0-py3-none-any.whl (21 kB)\n",
            "Installing collected packages: razdel\n",
            "Successfully installed razdel-0.5.0\n"
          ]
        }
      ],
      "source": [
        "! pip install razdel\n",
        "\n",
        "from razdel import tokenize\n",
        "from statistics import mean"
      ]
    },
    {
      "cell_type": "code",
      "source": [
        "from google.colab import drive\n",
        "drive.mount('/content/drive',force_remount=True)"
      ],
      "metadata": {
        "colab": {
          "base_uri": "https://localhost:8080/"
        },
        "id": "C80e3Zf3hGC6",
        "outputId": "efea641e-b233-4979-da37-0cf8f2191fef"
      },
      "execution_count": null,
      "outputs": [
        {
          "output_type": "stream",
          "name": "stdout",
          "text": [
            "Mounted at /content/drive\n"
          ]
        }
      ]
    },
    {
      "cell_type": "code",
      "source": [
        "path = '/content/drive/MyDrive/Colab Notebooks/dataset'"
      ],
      "metadata": {
        "id": "0eokKLvFhIBJ"
      },
      "execution_count": null,
      "outputs": []
    },
    {
      "cell_type": "markdown",
      "source": [
        "# Статистика:"
      ],
      "metadata": {
        "id": "9gLYAh8QsQvZ"
      }
    },
    {
      "cell_type": "code",
      "source": [
        "def stat(data):\n",
        "    lens = [len(list(tokenize(txt))) for txt in data if txt]\n",
        "    min_ = min(lens)\n",
        "    max_ = max(lens)\n",
        "    mean_ = mean(lens)\n",
        "    return min_, max_, mean_"
      ],
      "metadata": {
        "id": "OD4twM9ehj8l"
      },
      "execution_count": null,
      "outputs": []
    },
    {
      "cell_type": "markdown",
      "source": [
        "Обучающая выборка:"
      ],
      "metadata": {
        "id": "GKPvwjry4mlQ"
      }
    },
    {
      "cell_type": "code",
      "source": [
        "txt, ref = [], []\n",
        "for i in range(50):\n",
        "    with open(path + f'/{i}.txt', 'r') as f:\n",
        "        data = f.read().split('\\n\\n')\n",
        "    #print(f'{i}:{len(data)}')\n",
        "    txt.append(data[1])\n",
        "    ref.append(data[2])"
      ],
      "metadata": {
        "id": "-UMHXZ0AhKMG"
      },
      "execution_count": null,
      "outputs": []
    },
    {
      "cell_type": "code",
      "source": [
        "min_, max_, mean_ = stat(txt)\n",
        "print('texts:')\n",
        "print(f'min: {min_} max: {max_} mean: {mean_}')\n",
        "min_, max_, mean_ = stat(ref)\n",
        "print('summaries:')\n",
        "print(f'min: {min_} max: {max_} mean: {mean_}')"
      ],
      "metadata": {
        "colab": {
          "base_uri": "https://localhost:8080/"
        },
        "id": "e1Bnnz1HlRyn",
        "outputId": "6308c282-bf19-4ae2-b8d4-b28ccdd99e9c"
      },
      "execution_count": null,
      "outputs": [
        {
          "output_type": "stream",
          "name": "stdout",
          "text": [
            "texts:\n",
            "min: 781 max: 3101 mean: 2036.5\n",
            "summaries:\n",
            "min: 47 max: 483 mean: 150.64\n"
          ]
        }
      ]
    },
    {
      "cell_type": "code",
      "source": [
        "lens = [len(list(tokenize(ref[i])))/len(list(tokenize(t))) for i, t in enumerate(txt) if t]\n",
        "min_ = min(lens)\n",
        "max_ = max(lens)\n",
        "mean_ = mean(lens)"
      ],
      "metadata": {
        "id": "KrdMkkTloGzz"
      },
      "execution_count": null,
      "outputs": []
    },
    {
      "cell_type": "code",
      "source": [
        "print(f'min: {min_*100}% max: {max_*100}% mean: {mean_*100}%')"
      ],
      "metadata": {
        "colab": {
          "base_uri": "https://localhost:8080/"
        },
        "id": "vxvEL349o3Jh",
        "outputId": "3b8c812f-4134-4e73-a66a-0b865160c55c"
      },
      "execution_count": null,
      "outputs": [
        {
          "output_type": "stream",
          "name": "stdout",
          "text": [
            "min: 1.8059490084985836% max: 22.860712054965646% mean: 7.54727588750814%\n"
          ]
        }
      ]
    },
    {
      "cell_type": "markdown",
      "source": [
        "Тестовая выборка:"
      ],
      "metadata": {
        "id": "2YuEW1vD5So0"
      }
    },
    {
      "cell_type": "code",
      "source": [
        "txt, ref = [], []\n",
        "for i in range(50, 60):\n",
        "    with open(path + f'/{i}.txt', 'r') as f:\n",
        "        data = f.read().split('\\n\\n')\n",
        "    #print(f'{i}:{len(data)}')\n",
        "    txt.append(data[1])\n",
        "    ref.append(data[2])"
      ],
      "metadata": {
        "id": "zquTXBeS5Uu8"
      },
      "execution_count": null,
      "outputs": []
    },
    {
      "cell_type": "code",
      "source": [
        "min_, max_, mean_ = stat(txt)\n",
        "print('texts:')\n",
        "print(f'min: {min_} max: {max_} mean: {mean_}')\n",
        "min_, max_, mean_ = stat(ref)\n",
        "print('summaries:')\n",
        "print(f'min: {min_} max: {max_} mean: {mean_}')"
      ],
      "metadata": {
        "colab": {
          "base_uri": "https://localhost:8080/"
        },
        "id": "W7q3IfFK5a5h",
        "outputId": "2fd512f3-009b-4414-f478-61e2482a68b9"
      },
      "execution_count": null,
      "outputs": [
        {
          "output_type": "stream",
          "name": "stdout",
          "text": [
            "texts:\n",
            "min: 915 max: 2087 mean: 1449.1\n",
            "summaries:\n",
            "min: 62 max: 130 mean: 94.9\n"
          ]
        }
      ]
    },
    {
      "cell_type": "code",
      "source": [
        "lens = [len(list(tokenize(ref[i])))/len(list(tokenize(t))) for i, t in enumerate(txt) if t]\n",
        "min_ = min(lens)\n",
        "max_ = max(lens)\n",
        "mean_ = mean(lens)"
      ],
      "metadata": {
        "id": "1SXnWdcN5cvD"
      },
      "execution_count": null,
      "outputs": []
    },
    {
      "cell_type": "code",
      "source": [
        "print(f'min: {min_*100}% max: {max_*100}% mean: {mean_*100}%')"
      ],
      "metadata": {
        "colab": {
          "base_uri": "https://localhost:8080/"
        },
        "id": "OsqlYeeq5fFI",
        "outputId": "e2af1fb3-f9f3-4438-8da1-595e1c22ea87"
      },
      "execution_count": null,
      "outputs": [
        {
          "output_type": "stream",
          "name": "stdout",
          "text": [
            "min: 4.2640186915887845% max: 9.432146294513956% mean: 6.857438482908908%\n"
          ]
        }
      ]
    }
  ]
}