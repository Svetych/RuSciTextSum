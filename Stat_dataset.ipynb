{
  "nbformat": 4,
  "nbformat_minor": 0,
  "metadata": {
    "colab": {
      "provenance": []
    },
    "kernelspec": {
      "name": "python3",
      "display_name": "Python 3"
    },
    "language_info": {
      "name": "python"
    }
  },
  "cells": [
    {
      "cell_type": "markdown",
      "source": [
        "# Библиотеки:"
      ],
      "metadata": {
        "id": "wvmJC93MsNo6"
      }
    },
    {
      "cell_type": "code",
      "execution_count": 2,
      "metadata": {
        "colab": {
          "base_uri": "https://localhost:8080/"
        },
        "id": "elpZSldLhFJB",
        "outputId": "5da2c892-b9d8-448d-cc35-01a1eafaddb4"
      },
      "outputs": [
        {
          "output_type": "stream",
          "name": "stdout",
          "text": [
            "Looking in indexes: https://pypi.org/simple, https://us-python.pkg.dev/colab-wheels/public/simple/\n",
            "Collecting razdel\n",
            "  Downloading razdel-0.5.0-py3-none-any.whl (21 kB)\n",
            "Installing collected packages: razdel\n",
            "Successfully installed razdel-0.5.0\n"
          ]
        }
      ],
      "source": [
        "! pip install razdel\n",
        "\n",
        "from razdel import tokenize\n",
        "from statistics import mean"
      ]
    },
    {
      "cell_type": "code",
      "source": [
        "from google.colab import drive\n",
        "drive.mount('/content/drive',force_remount=True)"
      ],
      "metadata": {
        "colab": {
          "base_uri": "https://localhost:8080/"
        },
        "id": "C80e3Zf3hGC6",
        "outputId": "250b038b-0b04-40f2-bdca-56d4e0d679fa"
      },
      "execution_count": 3,
      "outputs": [
        {
          "output_type": "stream",
          "name": "stdout",
          "text": [
            "Mounted at /content/drive\n"
          ]
        }
      ]
    },
    {
      "cell_type": "code",
      "source": [
        "path = '/content/drive/MyDrive/Colab Notebooks/dataset'"
      ],
      "metadata": {
        "id": "0eokKLvFhIBJ"
      },
      "execution_count": 4,
      "outputs": []
    },
    {
      "cell_type": "markdown",
      "source": [
        "# Статистика:"
      ],
      "metadata": {
        "id": "9gLYAh8QsQvZ"
      }
    },
    {
      "cell_type": "code",
      "source": [
        "def stat(data):\n",
        "    lens = [len(list(tokenize(txt))) for txt in data if txt]\n",
        "    min_ = min(lens)\n",
        "    max_ = max(lens)\n",
        "    mean_ = mean(lens)\n",
        "    return min_, max_, mean_"
      ],
      "metadata": {
        "id": "OD4twM9ehj8l"
      },
      "execution_count": 5,
      "outputs": []
    },
    {
      "cell_type": "code",
      "source": [
        "txt, ref = [], []\n",
        "for i in range(50):\n",
        "    with open(path + f'/{i}.txt', 'r') as f:\n",
        "        data = f.read().split('\\n\\n')\n",
        "    #print(f'{i}:{len(data)}')\n",
        "    txt.append(data[1])\n",
        "    ref.append(data[2])"
      ],
      "metadata": {
        "id": "-UMHXZ0AhKMG"
      },
      "execution_count": null,
      "outputs": []
    },
    {
      "cell_type": "code",
      "source": [
        "min_, max_, mean_ = stat(txt)\n",
        "print('texts:')\n",
        "print(f'min: {min_} max: {max_} mean: {mean_}')\n",
        "min_, max_, mean_ = stat(ref)\n",
        "print('summaries:')\n",
        "print(f'min: {min_} max: {max_} mean: {mean_}')"
      ],
      "metadata": {
        "colab": {
          "base_uri": "https://localhost:8080/"
        },
        "id": "e1Bnnz1HlRyn",
        "outputId": "e8e98ee6-c469-4316-8ea8-dc5cd0f5362d"
      },
      "execution_count": 23,
      "outputs": [
        {
          "output_type": "stream",
          "name": "stdout",
          "text": [
            "texts:\n",
            "min: 781 max: 3101 mean: 2049.94\n",
            "summaries:\n",
            "min: 34 max: 483 mean: 143.8\n"
          ]
        }
      ]
    },
    {
      "cell_type": "code",
      "source": [
        "lens = [len(list(tokenize(ref[i])))/len(list(tokenize(t))) for i, t in enumerate(txt) if t]\n",
        "min_ = min(lens)\n",
        "max_ = max(lens)\n",
        "mean_ = mean(lens)"
      ],
      "metadata": {
        "id": "KrdMkkTloGzz"
      },
      "execution_count": 18,
      "outputs": []
    },
    {
      "cell_type": "code",
      "source": [
        "print(f'min: {min_*100}% max: {max_*100}% mean: {mean_*100}%')"
      ],
      "metadata": {
        "colab": {
          "base_uri": "https://localhost:8080/"
        },
        "id": "vxvEL349o3Jh",
        "outputId": "33d1b9cd-08dd-46f8-83ac-00cbefec7dfc"
      },
      "execution_count": 22,
      "outputs": [
        {
          "output_type": "stream",
          "name": "stdout",
          "text": [
            "min: 1.2393767705382437% max: 22.860712054965646% mean: 7.164366218075299%\n"
          ]
        }
      ]
    }
  ]
}
